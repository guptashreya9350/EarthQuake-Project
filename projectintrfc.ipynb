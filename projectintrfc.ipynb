{
 "cells": [
  {
   "cell_type": "code",
   "execution_count": 1,
   "metadata": {},
   "outputs": [
    {
     "ename": "SyntaxError",
     "evalue": "(unicode error) 'unicodeescape' codec can't decode bytes in position 2-3: truncated \\UXXXXXXXX escape (1980052415.py, line 6)",
     "output_type": "error",
     "traceback": [
      "\u001b[1;36m  Cell \u001b[1;32mIn[1], line 6\u001b[1;36m\u001b[0m\n\u001b[1;33m    model = joblib.load('C:\\Users\\ayush\\Desktop\\MCA-SEM2\\python project\\minor project.ipynb')\u001b[0m\n\u001b[1;37m                                                                                            ^\u001b[0m\n\u001b[1;31mSyntaxError\u001b[0m\u001b[1;31m:\u001b[0m (unicode error) 'unicodeescape' codec can't decode bytes in position 2-3: truncated \\UXXXXXXXX escape\n"
     ]
    }
   ],
   "source": [
    "import tkinter as tk\n",
    "from tkinter import messagebox\n",
    "import joblib\n",
    "\n",
    "# Load the trained model\n",
    "model = joblib.load('C:\\Users\\ayush\\Desktop\\MCA-SEM2\\python project\\minor project.ipynb')\n",
    "\n",
    "# Create the GUI window\n",
    "window = tk.Tk()\n",
    "window.title(\"Earthquake Prediction\")\n",
    "\n",
    "# Function to predict earthquake\n",
    "def predict_earthquake():\n",
    "    area = entry_area.get()\n",
    "\n",
    "    # Perform any necessary preprocessing on the input data\n",
    "\n",
    "    # Make the prediction using the trained model\n",
    "    prediction = model.predict([area])[0]\n",
    "\n",
    "    # Display the prediction\n",
    "    if prediction == 1:\n",
    "        messagebox.showinfo(\"Prediction\", \"Earthquake is likely to occur in the provided area.\")\n",
    "    else:\n",
    "        messagebox.showinfo(\"Prediction\", \"No earthquake is likely to occur in the provided area.\")\n",
    "\n",
    "# Create GUI components\n",
    "label_area = tk.Label(window, text=\"Enter Area:\")\n",
    "label_area.pack()\n",
    "\n",
    "entry_area = tk.Entry(window)\n",
    "entry_area.pack()\n",
    "\n",
    "button_predict = tk.Button(window, text=\"Predict\", command=predict_earthquake)\n",
    "button_predict.pack()\n",
    "\n",
    "# Start the GUI event loop\n",
    "window.mainloop()\n"
   ]
  }
 ],
 "metadata": {
  "kernelspec": {
   "display_name": "Python 3",
   "language": "python",
   "name": "python3"
  },
  "language_info": {
   "codemirror_mode": {
    "name": "ipython",
    "version": 3
   },
   "file_extension": ".py",
   "mimetype": "text/x-python",
   "name": "python",
   "nbconvert_exporter": "python",
   "pygments_lexer": "ipython3",
   "version": "3.9.13"
  },
  "orig_nbformat": 4
 },
 "nbformat": 4,
 "nbformat_minor": 2
}
